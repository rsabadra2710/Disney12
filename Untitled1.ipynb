{
  "nbformat": 4,
  "nbformat_minor": 0,
  "metadata": {
    "colab": {
      "name": "Untitled1.ipynb",
      "provenance": [],
      "authorship_tag": "ABX9TyP+6NmCtmB/RPDS7N/PzGhn",
      "include_colab_link": true
    },
    "kernelspec": {
      "name": "python3",
      "display_name": "Python 3"
    },
    "language_info": {
      "name": "python"
    }
  },
  "cells": [
    {
      "cell_type": "markdown",
      "metadata": {
        "id": "view-in-github",
        "colab_type": "text"
      },
      "source": [
        "<a href=\"https://colab.research.google.com/github/rsabadra2710/Disney12/blob/main/Untitled1.ipynb\" target=\"_parent\"><img src=\"https://colab.research.google.com/assets/colab-badge.svg\" alt=\"Open In Colab\"/></a>"
      ]
    },
    {
      "cell_type": "code",
      "execution_count": 1,
      "metadata": {
        "colab": {
          "base_uri": "https://localhost:8080/"
        },
        "id": "tS46XAUyyAts",
        "outputId": "a9fe2fcc-a0b9-494f-9d8a-13e9fe190bf5"
      },
      "outputs": [
        {
          "output_type": "stream",
          "name": "stdout",
          "text": [
            "mean of the latitude27.103081894150417\n",
            "mean of the longitude54.289127855153204\n"
          ]
        }
      ],
      "source": [
        "import pandas as pd\n",
        "\n",
        "r=pd.read_csv(\"/content/UAE_2010_20220307.csv\")\n",
        "a=r['latitude'].mean()\n",
        "s=r['longitude'].mean()\n",
        "print('mean of the latitude'+str(a))\n",
        "print('mean of the longitude'+str(s))"
      ]
    },
    {
      "cell_type": "code",
      "source": [
        "import pandas as pd\n",
        "\n",
        "r=pd.read_csv(\"/content/UAE_2010_20220307.csv\")\n",
        "a=r['latitude'].median()\n",
        "s=r['longitude'].median()\n",
        "print('median of the latitude'+str(a))\n",
        "print('median of the longitude'+str(s))"
      ],
      "metadata": {
        "colab": {
          "base_uri": "https://localhost:8080/"
        },
        "id": "PdQ2a7VMzT03",
        "outputId": "cb0d42bd-cca7-49e7-f74d-e65f5d2385be"
      },
      "execution_count": 2,
      "outputs": [
        {
          "output_type": "stream",
          "name": "stdout",
          "text": [
            "median of the latitude27.1255\n",
            "median of the longitude54.2282\n"
          ]
        }
      ]
    },
    {
      "cell_type": "code",
      "source": [
        "import pandas as pd\n",
        "\n",
        "r=pd.read_csv(\"/content/UAE_2010_20220307.csv\")\n",
        "a=r['latitude'].mode()[0]\n",
        "s=r['longitude'].mode()[0]\n",
        "print('mode of the latitude'+str(a))\n",
        "print('mode of the longitude'+str(s))"
      ],
      "metadata": {
        "colab": {
          "base_uri": "https://localhost:8080/"
        },
        "id": "WR9a4w49za12",
        "outputId": "64481dbb-1130-4af0-be72-0332e978cf31"
      },
      "execution_count": 3,
      "outputs": [
        {
          "output_type": "stream",
          "name": "stdout",
          "text": [
            "mode of the latitude26.724\n",
            "mode of the longitude53.92\n"
          ]
        }
      ]
    }
  ]
}