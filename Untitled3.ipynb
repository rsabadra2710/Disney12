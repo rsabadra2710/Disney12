{
  "nbformat": 4,
  "nbformat_minor": 0,
  "metadata": {
    "colab": {
      "name": "Untitled3.ipynb",
      "provenance": [],
      "authorship_tag": "ABX9TyMsVP0R9gp4Q/srxYeC9Sd5",
      "include_colab_link": true
    },
    "kernelspec": {
      "name": "python3",
      "display_name": "Python 3"
    },
    "language_info": {
      "name": "python"
    }
  },
  "cells": [
    {
      "cell_type": "markdown",
      "metadata": {
        "id": "view-in-github",
        "colab_type": "text"
      },
      "source": [
        "<a href=\"https://colab.research.google.com/github/rsabadra2710/Disney12/blob/main/Untitled3.ipynb\" target=\"_parent\"><img src=\"https://colab.research.google.com/assets/colab-badge.svg\" alt=\"Open In Colab\"/></a>"
      ]
    },
    {
      "cell_type": "code",
      "execution_count": 4,
      "metadata": {
        "colab": {
          "base_uri": "https://localhost:8080/"
        },
        "id": "iqakkWSV-Iwc",
        "outputId": "392d2959-9ee4-4e1b-d034-af10758318a0"
      },
      "outputs": [
        {
          "output_type": "stream",
          "name": "stdout",
          "text": [
            "81.7081527280003\n"
          ]
        }
      ],
      "source": [
        "import math \n",
        "import csv \n",
        "\n",
        "with open('/content/data.csv') as f:\n",
        "  reader=csv.reader(f)\n",
        "  file_data= list(reader)\n",
        "data=file_data[0]\n",
        "\n",
        "def mean(data):\n",
        "   n= len(data) \n",
        "   total =0 \n",
        "   for x in data:\n",
        "    total += int(x) \n",
        "    mean = total / n \n",
        "    return mean\n",
        "af=[]\n",
        "for number in data:\n",
        "   a= int(number) - mean(data)\n",
        "   a=a**2 \n",
        "   af.append(a)\n",
        "sum=0\n",
        "for i in af:\n",
        "   sum =sum + i\n",
        "result = sum/ (len(data)-1)\n",
        "std_deviation = math.sqrt(result) \n",
        "print(std_deviation)\n"
      ]
    }
  ]
}