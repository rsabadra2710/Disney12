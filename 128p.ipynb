{
  "nbformat": 4,
  "nbformat_minor": 0,
  "metadata": {
    "colab": {
      "provenance": [],
      "authorship_tag": "ABX9TyPzVuhH63PDfPFI54MR0GxL",
      "include_colab_link": true
    },
    "kernelspec": {
      "name": "python3",
      "display_name": "Python 3"
    },
    "language_info": {
      "name": "python"
    }
  },
  "cells": [
    {
      "cell_type": "markdown",
      "metadata": {
        "id": "view-in-github",
        "colab_type": "text"
      },
      "source": [
        "<a href=\"https://colab.research.google.com/github/rsabadra2710/Disney12/blob/main/128p.ipynb\" target=\"_parent\"><img src=\"https://colab.research.google.com/assets/colab-badge.svg\" alt=\"Open In Colab\"/></a>"
      ]
    },
    {
      "cell_type": "code",
      "execution_count": null,
      "metadata": {
        "colab": {
          "base_uri": "https://localhost:8080/"
        },
        "id": "ulyAg0h7iTB-",
        "outputId": "9e57a792-dd6f-421d-9464-cc88f9da2e15"
      },
      "outputs": [
        {
          "output_type": "stream",
          "name": "stdout",
          "text": [
            "ResultSet object has no attribute 'find'. You're probably treating a list of items like a single item. Did you call find_all() when you meant to call find()?\n"
          ]
        }
      ],
      "source": [
        "from bs4 import BeautifulSoup\n",
        "import re\n",
        "import requests, openpyxl\n",
        "z=openpyxl.Workbook()\n",
        "a=z.active\n",
        "a.title='movie title'\n",
        "a.append(['movie name','year','rating','story','director','gross'])\n",
        "\n",
        "try:\n",
        "  x=requests.get('https://www.imdb.com/search/title/?genres=comedy&sort=user_rating,desc&title_type=feature&num_votes=25000,&pf_rd_m=A2FGELUUNOQJNL&pf_rd_p=5aab685f-35eb-40f3-95f7-c53f09d542c3&pf_rd_r=TG0C2QYEMXEE2XY5EFA5&pf_rd_s=right-6&pf_rd_t=15506&pf_rd_i=top&ref_=chttp_gnr_5')\n",
        "  s=BeautifulSoup(x.text,'html.parser')\n",
        "  d=s.find('div',class_='lister-list').find_all('div',class_='lister-item')\n",
        "  for i in d:\n",
        "    name=d.find('h3').a.text\n",
        "    year=d.find('h3').find('span',class_='lister-item-year').text\n",
        "    year=re.sub('\\D',\"\",year)\n",
        "    rating=d.find('div',class_='ratings-imdb-rating').strong.text\n",
        "    story=d.find('p').findNext('p').get_text(strip=True)\n",
        "    director=d.find('p').findNext('p').findNext('p').a.text\n",
        "    gross=d.find('p',class_='sort-num_votes-visible').span.text\n",
        "    a.append([name,year,rating,story,director,gross])\n",
        "except Exception as e:\n",
        "  print(e)\n",
        "  \n",
        "z.save('Comedy.xlsx')\n"
      ]
    }
  ]
}