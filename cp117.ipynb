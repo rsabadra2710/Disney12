{
  "nbformat": 4,
  "nbformat_minor": 0,
  "metadata": {
    "colab": {
      "provenance": [],
      "authorship_tag": "ABX9TyNL3r5ZvRCaTzfy7LL2Ggps",
      "include_colab_link": true
    },
    "kernelspec": {
      "name": "python3",
      "display_name": "Python 3"
    },
    "language_info": {
      "name": "python"
    }
  },
  "cells": [
    {
      "cell_type": "markdown",
      "metadata": {
        "id": "view-in-github",
        "colab_type": "text"
      },
      "source": [
        "<a href=\"https://colab.research.google.com/github/rsabadra2710/Disney12/blob/main/cp117.ipynb\" target=\"_parent\"><img src=\"https://colab.research.google.com/assets/colab-badge.svg\" alt=\"Open In Colab\"/></a>"
      ]
    },
    {
      "cell_type": "code",
      "execution_count": 2,
      "metadata": {
        "id": "1b5PneeSdxiA"
      },
      "outputs": [],
      "source": [
        "import pandas as pd\n",
        "import plotly.express as px\n",
        "e=pd.read_csv(\"/content/BankNote_Authentication.csv\")"
      ]
    },
    {
      "cell_type": "code",
      "source": [
        "from sklearn.model_selection import train_test_split"
      ],
      "metadata": {
        "id": "jkzZfSOFd_1S"
      },
      "execution_count": 1,
      "outputs": []
    },
    {
      "cell_type": "code",
      "source": [
        "factors=e[['variance','skewness','curtosis','entropy']]\n",
        "etc=e['class']\n",
        "factors_train,factors_test,etc_train,etc_test=train_test_split(factors,etc)"
      ],
      "metadata": {
        "id": "sWxTsie_eFS-"
      },
      "execution_count": 4,
      "outputs": []
    },
    {
      "cell_type": "code",
      "source": [
        "from sklearn.preprocessing import StandardScaler\n",
        "hey=StandardScaler()\n",
        "factors_train=hey.fit_transform(factors_train)\n",
        "factors_test=hey.fit_transform(factors_test)"
      ],
      "metadata": {
        "id": "uo5BGecGehA3"
      },
      "execution_count": 5,
      "outputs": []
    },
    {
      "cell_type": "code",
      "source": [
        "from sklearn.linear_model import LogisticRegression\n",
        "\n",
        "classifier2=LogisticRegression()\n",
        "classifier2.fit(factors_train,etc_train)"
      ],
      "metadata": {
        "colab": {
          "base_uri": "https://localhost:8080/"
        },
        "id": "o54pntZrekkA",
        "outputId": "a22d97a5-7cb9-42d0-dbaf-59a9a66b475c"
      },
      "execution_count": 6,
      "outputs": [
        {
          "output_type": "execute_result",
          "data": {
            "text/plain": [
              "LogisticRegression()"
            ]
          },
          "metadata": {},
          "execution_count": 6
        }
      ]
    },
    {
      "cell_type": "code",
      "source": [
        "etc_prediction_1 = classifier2.predict(factors_test) \n",
        "predicted_values_1 = []\n",
        "for i in etc_prediction_1: \n",
        "   if i == 0:\n",
        "    predicted_values_1.append(\"No\")\n",
        "   else: \n",
        "    predicted_values_1.append(\"Yes\")\n",
        "   actual_values_1 = [] \n",
        "for i in etc_test.ravel():\n",
        "   if i == 0:\n",
        "     actual_values_1.append(\"No\") \n",
        "   else: \n",
        "     actual_values_1.append(\"Yes\")"
      ],
      "metadata": {
        "id": "AS_GyS1aer6D"
      },
      "execution_count": 7,
      "outputs": []
    },
    {
      "cell_type": "code",
      "source": [
        "from sklearn.metrics import confusion_matrix\n",
        "import seaborn as sns \n",
        "import matplotlib.pyplot as plt\n",
        "cm = confusion_matrix(actual_values_1, predicted_values_1)\n",
        "ax= plt.subplot()\n",
        "sns.heatmap(cm, annot=True, ax = ax)\n",
        "ax.set_xlabel('Predicted') \n",
        "ax.set_ylabel('Actual')\n",
        "ax.set_title('Confusion Matrix')"
      ],
      "metadata": {
        "id": "bFCMKbKse3p0",
        "outputId": "d7473cfb-7a70-44d0-ef54-7b4493ea7045",
        "colab": {
          "base_uri": "https://localhost:8080/",
          "height": 312
        }
      },
      "execution_count": 8,
      "outputs": [
        {
          "output_type": "execute_result",
          "data": {
            "text/plain": [
              "Text(0.5, 1.0, 'Confusion Matrix')"
            ]
          },
          "metadata": {},
          "execution_count": 8
        },
        {
          "output_type": "display_data",
          "data": {
            "text/plain": [
              "<Figure size 432x288 with 2 Axes>"
            ],
            "image/png": "[encoded data removed]"
          },
          "metadata": {
            "needs_background": "light"
          }
        }
      ]
    }
  ]
}